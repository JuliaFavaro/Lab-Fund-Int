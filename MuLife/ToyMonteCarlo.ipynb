{
 "cells": [
  {
   "cell_type": "markdown",
   "id": "1cff6c83-a699-4d44-b4b5-14a3daf0ea6d",
   "metadata": {},
   "source": [
    "## Librerie e funzioni"
   ]
  },
  {
   "cell_type": "code",
   "execution_count": 12,
   "id": "777cf797-5e8f-44ab-8af0-1bcbbad00235",
   "metadata": {},
   "outputs": [],
   "source": [
    "import numpy as np\n",
    "import matplotlib.pyplot as plt"
   ]
  },
  {
   "cell_type": "code",
   "execution_count": 13,
   "id": "0bab8f16",
   "metadata": {},
   "outputs": [],
   "source": [
    "# Parametri geometrici delle lastre\n",
    "larghezza_pla = 26.7  # cm\n",
    "lunghezza_pla = 52.5  # cm\n",
    "profondità_pla = 2.3  # cm\n",
    "\n",
    "# Distanze tra i PMT\n",
    "distanza_7_4 = 28.9  # cm\n",
    "distanza_4_2 = 39.4  # cm\n",
    "distanza_2_b = 7  # cm\n",
    "\n",
    "# Efficienze dei PMT\n",
    "efficienze = {\n",
    "    \"PMT7\": 0.3,\n",
    "    \"PMT4\": 0.8,\n",
    "    \"PMT2\": 0.3,\n",
    "    \"PMT8\": 0.3,\n",
    "    \"PMT9\": 0.4,\n",
    "    \"PMT10\": 0.3,\n",
    "    \"PMT11\": 0.4\n",
    "}\n",
    "\n",
    "# Dimensioni del bersaglio (PMT sotto il sistema principale)\n",
    "larghezza_bers = 30  # cm\n",
    "lunghezza_bers = 31  # cm"
   ]
  },
  {
   "cell_type": "code",
   "execution_count": 14,
   "id": "a63a2547",
   "metadata": {},
   "outputs": [
    {
     "name": "stdout",
     "output_type": "stream",
     "text": [
      "Rate di coincidenza  AND (sistema completo) per 900 s: 0.84333 eventi/s\n"
     ]
    }
   ],
   "source": [
    "# Dimensioni di ciascun PMT nel bersaglio\n",
    "larghezza_pmt_bers = larghezza_bers / 2  # ogni PMT largo metà del sistema\n",
    "lunghezza_pmt_bers = lunghezza_bers / 2  # ogni PMT lungo metà del sistema\n",
    "profondità_pmt_bers=30/2\n",
    "\n",
    "offset_x=(lunghezza_pla-lunghezza_bers)/2\n",
    "offset_y=(larghezza_bers-larghezza_pla)/2\n",
    "\n",
    "# Funzione per verificare se una posizione è all'interno dei limiti geometrici\n",
    "def is_inside(x, y, larghezza, lunghezza):\n",
    "    return (0<= x <= larghezza) and (0 <= y <= lunghezza)\n",
    "\n",
    "# Funzione per verificare se una posizione è all'interno dei limiti geometrici\n",
    "def is_inside_target(x, y, larghezza, lunghezza):\n",
    "    return (offset_x<= x <= larghezza+offset_x) and (offset_y <= y <= lunghezza+offset_y)\n",
    "\n",
    "# Simulazione di un evento per i PMT bersaglio\n",
    "def simulate_target_event(xb89, yb89,theta,phi):\n",
    "    # Limiti del sistema bersaglio rispetto a PMT2    \n",
    "    xb01 = xb89- profondità_pmt_bers * np.tan(theta) * np.cos(phi)\n",
    "    yb01 = yb89 - profondità_pmt_bers * np.tan(theta) * np.sin(phi)\n",
    "\n",
    "    # Coordinate dei centri dei PMT bersaglio\n",
    "    pmt_positions = {\n",
    "        \"PMT8\": (xb89,yb89),\n",
    "        \"PMT9\": (xb89,yb89),\n",
    "        \"PMT10\": (xb01,yb01),\n",
    "        \"PMT11\": (xb01,yb01), \n",
    "    }\n",
    "\n",
    "    # Verifica hit su ciascun PMT\n",
    "    hit_results = []\n",
    "    for pmt, (px, py) in pmt_positions.items():\n",
    "        is_hit = is_inside_target(px, py, larghezza_pmt_bers, lunghezza_pmt_bers) and np.random.uniform(0, 1) < efficienze[pmt]\n",
    "        hit_results.append(is_hit)\n",
    "\n",
    "    # Logica OR tra i PMT del bersaglio\n",
    "    return any(hit_results)\n",
    "\n",
    "# Simulazione di un evento principale (PMT superiori + bersaglio)\n",
    "def simulate_event():\n",
    "    # Generazione casuale di theta e phi\n",
    "    phi = np.random.uniform(0, 2 * np.pi)  # Distribuzione uniforme in phi\n",
    "    theta = np.arccos(np.sqrt(np.random.uniform(0, 1)))  # Distribuzione cos^2(theta)\n",
    "\n",
    "    # PMT7\n",
    "    x1 = np.random.uniform(0, larghezza_pla )\n",
    "    y1 = np.random.uniform(0, lunghezza_pla)\n",
    "    if not is_inside(x1, y1, larghezza_pla, lunghezza_pla) or np.random.uniform(0, 1) > efficienze[\"PMT7\"]:\n",
    "        return False\n",
    "\n",
    "    # PMT4\n",
    "    x2 = x1 - distanza_7_4 * np.tan(theta) * np.cos(phi)\n",
    "    y2 = y1 - distanza_7_4 * np.tan(theta) * np.sin(phi)\n",
    "    if not is_inside(x2, y2, larghezza_pla, lunghezza_pla) or np.random.uniform(0, 1) > efficienze[\"PMT4\"]:\n",
    "        return False\n",
    "\n",
    "    # PMT2\n",
    "    x3 = x2 - distanza_4_2 * np.tan(theta) * np.cos(phi)\n",
    "    y3 = y2 - distanza_4_2 * np.tan(theta) * np.sin(phi)\n",
    "    if not is_inside(x3, y3, larghezza_pla, lunghezza_pla) or np.random.uniform(0, 1) > efficienze[\"PMT2\"]:\n",
    "        return False\n",
    "\n",
    "    # Logica AND tra i PMT superiori e il bersaglio\n",
    "    x89= x3 - distanza_2_b * np.tan(theta) * np.cos(phi)\n",
    "    y89 = y3 - distanza_2_b* np.tan(theta) * np.sin(phi)\n",
    "    return simulate_target_event(x89, y89,theta,phi)\n",
    "\n",
    "# Simulazione Monte Carlo\n",
    "def monte_carlo_simulation(duration, area):\n",
    "    total_events = int(duration * area)  # Numero totale di eventi da simulare\n",
    "    coincident_events = 0\n",
    "    for _ in range(total_events):\n",
    "        if simulate_event():\n",
    "            coincident_events += 1\n",
    "    return coincident_events / duration  # Rate di coincidenza\n",
    "\n",
    "# Esecuzione della simulazione\n",
    "tempo_acquisizione = 15*60  # secondi\n",
    "area_totale = larghezza_pla * lunghezza_pla  # cm²\n",
    "rate_coincidenza = monte_carlo_simulation(tempo_acquisizione, area_totale)\n",
    "print(f\"Rate di coincidenza  AND (sistema completo) per {tempo_acquisizione} s: {rate_coincidenza:.5f} eventi/s\")"
   ]
  },
  {
   "cell_type": "markdown",
   "id": "732bd81f",
   "metadata": {},
   "source": [
    "## Efficienza intrinseca del VETO"
   ]
  },
  {
   "cell_type": "code",
   "execution_count": 4,
   "id": "e1d889fe-be34-464d-963b-936df882ef80",
   "metadata": {},
   "outputs": [],
   "source": [
    "def errore_prodotto(x,y,dx,dy):\n",
    "    return np.sqrt((y*dx)**2+(x*dy)**2)\n",
    "def errore_prodotto3(x,dx, y,dy, z, dz):\n",
    "    return np.sqrt((x*y*dz)**2+(x*z*dy)**2+(dx*y*z)**2)"
   ]
  },
  {
   "cell_type": "code",
   "execution_count": null,
   "id": "88247c05-ce46-4a54-a2d0-433d91e02c73",
   "metadata": {},
   "outputs": [],
   "source": [
    "def accettanza_sistema3(length1, length2, length3, width,height1, height2):\n",
    "    \"\"\"Calcolo della efficienza geometrica per 3 scintillatori sovrapposti con geometria diversa.\n",
    "    L'altezza è positiva se considerata dal basso verso l'alto, negativa se viceversa.\n",
    "    1 e 2 rappresentano la doppia, mentre 3 rappresenta lo scintillatore di cui vogliamo calcolare l'accettanza geometrica.\"\"\"\n",
    "    n = 10000 #Numero di tentativi\n",
    "    # Inizializza contatori\n",
    "    successi = 0\n",
    "    tentativi = 0\n",
    "    \n",
    "    # Generatore di numeri casuali\n",
    "    rng = np.random.default_rng() #random seed\n",
    "    \n",
    "    for _ in range(n):\n",
    "        # Genera coordinate x1 e y1 sul primo scintillatore\n",
    "        x1 = rng.uniform(0, width)\n",
    "        y1 = rng.uniform(0, length1)\n",
    "        \n",
    "        \n",
    "        # Genera angoli ϕ e θ\n",
    "        phi = rng.uniform(0, 2 * np.pi)\n",
    "        theta = np.arccos(rng.uniform(0, 1)**(1/4))  # distribuito come cos3(θ)\n",
    "        \n",
    "        # Proiezione del fascio sul secondo scintillatore\n",
    "        x2 = x1 - height1 * np.tan(theta) * np.cos(phi) \n",
    "        y2 = y1 - height1 * np.tan(theta) * np.sin(phi)\n",
    "\n",
    "        # Proiezione del fascio sul terzo scintillatore\n",
    "        x3 = x2 - height2 * np.tan(theta) * np.cos(phi) \n",
    "        y3 = y2 - height2 * np.tan(theta) * np.sin(phi)\n",
    "        \n",
    "        # Verifica se x2 e y2 sono compresi nelle dimensioni del secondo scintillatore\n",
    "        if 0 <= x2 <= width and 0 <= y2 <= length2:\n",
    "            if 0 <= x3 <= width and 0 <= y3 <= length3:\n",
    "                successi += 1\n",
    "            tentativi+=1 #probabilità che passi dal terzo PMT data la doppia\n",
    "    \n",
    "    efficienza_geometrica = successi / tentativi\n",
    "    errore = np.sqrt(efficienza_geometrica * (1 - efficienza_geometrica) / tentativi)\n",
    "    return efficienza_geometrica, errore"
   ]
  },
  {
   "cell_type": "code",
   "execution_count": null,
   "id": "f57ed1da-117d-4f3a-af92-7aa1f208f0b1",
   "metadata": {},
   "outputs": [],
   "source": [
    "larghezza_pla=26.7 #cm\n",
    "dlarghezza_pla=0.1#cm\n",
    "lunghezza_pla=52.5 \n",
    "dlunghezza_pla=0.1\n",
    "prodondità_pla=2.3\n",
    "dprofondità_pla=0.1\n",
    "\n",
    "area_pla=larghezza_pla*lunghezza_pla\n",
    "darea=errore_prodotto(lunghezza_pla,dlunghezza_pla,larghezza_pla,dlarghezza_pla)\n",
    "\n",
    "distanza_7_4=28.9 #cm\n",
    "distanza_4_3=9.4 \n",
    "distanza_3_2=9.4\n",
    "distanza_2_b=7\n",
    "distanza_b_1=15"
   ]
  },
  {
   "cell_type": "code",
   "execution_count": null,
   "id": "84ff1f29-c962-41df-9f70-d2020faf78df",
   "metadata": {},
   "outputs": [
    {
     "ename": "NameError",
     "evalue": "name 'accettanza_sistema3' is not defined",
     "output_type": "error",
     "traceback": [
      "\u001b[0;31m---------------------------------------------------------------------------\u001b[0m",
      "\u001b[0;31mNameError\u001b[0m                                 Traceback (most recent call last)",
      "Cell \u001b[0;32mIn[1], line 10\u001b[0m\n\u001b[1;32m      7\u001b[0m triple_doppie7\u001b[38;5;241m=\u001b[39m\u001b[38;5;241m0.34\u001b[39m\n\u001b[1;32m      8\u001b[0m errore7\u001b[38;5;241m=\u001b[39m\u001b[38;5;241m0.03\u001b[39m\n\u001b[0;32m---> 10\u001b[0m acc3_1, errore_acc3_1\u001b[38;5;241m=\u001b[39m\u001b[43maccettanza_sistema3\u001b[49m(length2,length2,length1, width,\u001b[38;5;241m-\u001b[39mheight2, height1\u001b[38;5;241m+\u001b[39mheight2) \n\u001b[1;32m     11\u001b[0m \u001b[38;5;28mprint\u001b[39m(\u001b[38;5;124mf\u001b[39m\u001b[38;5;124m'\u001b[39m\u001b[38;5;124mAccettanza1: \u001b[39m\u001b[38;5;132;01m{\u001b[39;00macc3_1\u001b[38;5;132;01m}\u001b[39;00m\u001b[38;5;124m'\u001b[39m)\n\u001b[1;32m     13\u001b[0m epsilon_intr1\u001b[38;5;241m=\u001b[39mtriple_doppie1\u001b[38;5;241m/\u001b[39macc3_1\n",
      "\u001b[0;31mNameError\u001b[0m: name 'accettanza_sistema3' is not defined"
     ]
    }
   ],
   "source": [
    "triple_doppie1=0.13\n",
    "errore1=0.03\n",
    "triple_doppie2=0.32\n",
    "errore2=0.03\n",
    "triple_doppie4=0.73\n",
    "errore4=0.04\n",
    "triple_doppie7=0.34\n",
    "errore7=0.03\n",
    "\n",
    "distanza_2_b+distanza_b_1\n",
    "acc_1, errore_acc_1=accettanza_sistema3(lunghezza_pla,lunghezza_pla,lunghezza_pla, larghezza_pla, distanza_7_4+distanza_2_b)\n",
    "print(f'Accettanza1: {acc_1}')\n",
    "\n",
    "epsilon_intr1=triple_doppie1/acc_1\n",
    "depsilon_intr1=errore_prodotto(triple_doppie1,acc_1,errore1,errore_acc_1)\n",
    "print(f\"Efficienza intrinseca PMT1 {epsilon_intr1:.2f} ± {depsilon_intr1:.2f}\")"
   ]
  },
  {
   "cell_type": "code",
   "execution_count": 9,
   "id": "460b51d8-3a44-4d92-ae72-34f9812c1096",
   "metadata": {},
   "outputs": [
    {
     "name": "stdout",
     "output_type": "stream",
     "text": [
      "Efficienza geometrica 1: 0.938  ± 0.002\n",
      "Efficienza geometrica 2: 0.605  ± 0.005\n",
      "Efficienza corretta per l'accettanza 1: 0.89 ± 0.05\n",
      "Efficienza corretta per l'accettanza 2: 0.53 ± 0.03\n"
     ]
    }
   ],
   "source": [
    "geom_eff1, err_geom1=accettanza_sistema2(length2,length1,width,height1)\n",
    "print(f\"Efficienza geometrica 1: {geom_eff1:.3f}  ± {err_geom1:.3f}\")\n",
    "\n",
    "geom_eff2, err_geom2=accettanza_sistema2(length1,length2,width,-height1)\n",
    "print(f\"Efficienza geometrica 2: {geom_eff2:.3f}  ± {err_geom2:.3f}\")\n",
    "\n",
    "epsilon_eff1=epsilon_intr1*geom_eff1\n",
    "depsilon_eff1=errore_prodotto(epsilon_intr1,geom_eff1,depsilon_intr1,err_geom1)\n",
    "print(f\"Efficienza corretta per l'accettanza 1: {epsilon_eff1:.2f} ± {depsilon_eff1:.2f}\")\n",
    "\n",
    "epsilon_eff2=epsilon_intr2*geom_eff2\n",
    "depsilon_eff2=errore_prodotto(epsilon_intr2,geom_eff2,depsilon_intr2,err_geom2)\n",
    "print(f\"Efficienza corretta per l'accettanza 2: {epsilon_eff2:.2f} ± {depsilon_eff2:.2f}\")"
   ]
  },
  {
   "cell_type": "code",
   "execution_count": 10,
   "id": "72fe911f-7ba0-4f11-bf41-b8a5259e9b5e",
   "metadata": {},
   "outputs": [
    {
     "name": "stdout",
     "output_type": "stream",
     "text": [
      "Efficienza Setup08: 0.47 ± 0.04\n"
     ]
    }
   ],
   "source": [
    "epsilon_eff=epsilon_eff1*epsilon_eff2\n",
    "depsilon_eff=errore_prodotto(epsilon_eff1,depsilon_eff1,epsilon_eff2,depsilon_eff2)\n",
    "print(f\"Efficienza Setup08: {epsilon_eff:.2f} ± {depsilon_eff:.2f}\")"
   ]
  },
  {
   "cell_type": "code",
   "execution_count": 14,
   "id": "09ca3f23-4ad7-47e1-bac4-aff0ff800088",
   "metadata": {},
   "outputs": [
    {
     "name": "stdout",
     "output_type": "stream",
     "text": [
      "Rate Setup08: 6.081140520476354 ± 0.5236151502970052\n"
     ]
    }
   ],
   "source": [
    "rate_cosmic1=cosmic*aeff*1/60\n",
    "drate_cosmic1=cosmic*daeff*1/60\n",
    "print(f\"Rate Setup08: {epsilon_eff*rate_cosmic1} ± {errore_prodotto(rate_cosmic1, epsilon_eff, drate_cosmic1, depsilon_eff)}\")"
   ]
  },
  {
   "cell_type": "code",
   "execution_count": 17,
   "id": "db2b2b4e-f151-411c-9a70-6414243f0451",
   "metadata": {},
   "outputs": [
    {
     "name": "stdout",
     "output_type": "stream",
     "text": [
      "Rate eventi accidentali: 367± 2 mHz\n"
     ]
    }
   ],
   "source": [
    "rate1=4548\n",
    "drate1=12\n",
    "rate2=1063\n",
    "drate2=6\n",
    "racc=rate1*rate2*2*(40e-9-2e-9)\n",
    "dracc=np.sqrt((drate1*rate2)**2+(rate1*drate2)**2)*2*(40e-9-2e-9)\n",
    "print(f\"Rate eventi accidentali: {racc*1e3:.0f}± {dracc*1e3:.0f} mHz\")"
   ]
  }
 ],
 "metadata": {
  "kernelspec": {
   "display_name": "Python 3",
   "language": "python",
   "name": "python3"
  },
  "language_info": {
   "codemirror_mode": {
    "name": "ipython",
    "version": 3
   },
   "file_extension": ".py",
   "mimetype": "text/x-python",
   "name": "python",
   "nbconvert_exporter": "python",
   "pygments_lexer": "ipython3",
   "version": "3.10.12"
  }
 },
 "nbformat": 4,
 "nbformat_minor": 5
}
